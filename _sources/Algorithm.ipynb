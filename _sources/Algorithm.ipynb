{
 "cells": [
  {
   "cell_type": "markdown",
   "id": "6a6f93a2-aac0-46b6-ba5b-ee453c7054d2",
   "metadata": {},
   "source": [
    "# The Algorithm"
   ]
  },
  {
   "cell_type": "code",
   "execution_count": 20,
   "id": "ecab4427-68e1-43ff-ad30-9f2ae7f5c7b3",
   "metadata": {
    "tags": []
   },
   "outputs": [],
   "source": [
    "import numpy as np\n",
    "import pandas as pd\n",
    "import xarray as xr\n",
    "import hvplot.pandas  # noqa\n",
    "import hvplot.xarray  # noqa\n",
    "import cartopy.crs as ccrs\n",
    "import random\n",
    "import geoviews as gv\n",
    "import holoviews as hv\n",
    "\n",
    "from geopy.distance import geodesic\n",
    "\n",
    "import warnings\n",
    "import asyncio\n",
    "warnings.filterwarnings('ignore')\n",
    "pd.options.mode.chained_assignment = None\n",
    "asyncio.set_event_loop_policy(asyncio.DefaultEventLoopPolicy())"
   ]
  },
  {
   "cell_type": "markdown",
   "id": "d535be01-15cc-4193-899e-4cd51b04cc31",
   "metadata": {
    "tags": []
   },
   "source": [
    "A decentralized gready routing algorithm with memory to not to get stuck runing circles and maximum iterations of 200."
   ]
  },
  {
   "cell_type": "code",
   "execution_count": 21,
   "id": "a6bf8b3b-ae39-4c4e-b6bd-5e7c4157b0a0",
   "metadata": {},
   "outputs": [],
   "source": [
    "users = pd.read_csv(r'C:\\Users\\dajka\\Documents\\Egyetem\\MSC\\III\\dsdatasci\\data/us_users_in_network.csv')\n",
    "edges_100 = pd.read_csv(r'C:\\Users\\dajka\\Documents\\Egyetem\\MSC\\III\\dsdatasci\\twitter/edges_1000.csv')\n",
    "users_100 = users[users['user_id'].isin(np.unique(edges_100.values))].reset_index(drop=True)"
   ]
  },
  {
   "cell_type": "code",
   "execution_count": 22,
   "id": "4b2652cd-b6d6-489c-9e80-c5120c39e155",
   "metadata": {},
   "outputs": [],
   "source": [
    "def geodesic_distance(a, b):\n",
    "    return geodesic(a, b).miles"
   ]
  },
  {
   "cell_type": "code",
   "execution_count": 23,
   "id": "6159399f-e1e1-4644-9c6c-bd37ac91c6f5",
   "metadata": {},
   "outputs": [],
   "source": [
    "def greedy_routing(users, edges, start, end):\n",
    "    \n",
    "    goal_loc = tuple(users[users['user_id']==end].iloc[:,1:3].values[0])\n",
    "    goal_met = 0\n",
    "\n",
    "    current_node = start\n",
    "    current_loc = tuple(users[users['user_id']==start].iloc[:,1:3].values[0])\n",
    "    current_dist = geodesic_distance(current_loc, goal_loc)\n",
    "    iterations = 0\n",
    "    problems = 0\n",
    "\n",
    "    visited_nodes = []\n",
    "    visited_locations_lat = []\n",
    "    visited_locations_lon = []\n",
    "\n",
    "    while goal_met < 1:\n",
    "\n",
    "        iterations += 1\n",
    "        visited_nodes.append(current_node)\n",
    "        visited_locations_lat.append(current_loc[0])\n",
    "        visited_locations_lon.append(current_loc[1])\n",
    "        \n",
    "        # Get the neighbors\n",
    "        neighbors = np.unique(pd.concat([edges[edges['from']==current_node], edges[edges['to']==current_node]]).values).tolist()\n",
    "        neighbors_df = users[users['user_id'].isin(neighbors)]\n",
    "\n",
    "        # Calculate their distances from the goal\n",
    "        distances = [geodesic_distance(tuple(row), goal_loc) for row in users[users['user_id'].isin(neighbors)].iloc[:,1:3].values]\n",
    "        neighbors_df.loc[:,'distance'] = distances\n",
    "        neighbors_df = neighbors_df[~neighbors_df['user_id'].isin(visited_nodes)] # neighbors not in visited nodes\n",
    "\n",
    "        # Check if dead end\n",
    "        if len(neighbors_df) < 1: \n",
    "            iterations = -1\n",
    "            goal_met += 1\n",
    "            break\n",
    "        \n",
    "        # Choose the colsest neighbor\n",
    "        closest_neighbor = neighbors_df.sort_values('distance').iloc[0,0]\n",
    "\n",
    "        if (neighbors_df.sort_values('distance').iloc[0,-1] == 0) and (closest_neighbor == end):\n",
    "            visited_nodes.append(closest_neighbor)\n",
    "            visited_locations_lat.append(users[users['user_id']==closest_neighbor].iloc[:,1].values[0])\n",
    "            visited_locations_lon.append(users[users['user_id']==closest_neighbor].iloc[:,2].values[0])\n",
    "            goal_met += 1\n",
    "        elif neighbors_df.sort_values('distance').iloc[0,-1] >= current_dist:\n",
    "            problems += 1\n",
    "\n",
    "        # New current node\n",
    "        current_node = closest_neighbor\n",
    "        current_loc = tuple(users[users['user_id']==closest_neighbor].iloc[:,1:3].values[0])\n",
    "        current_dist = geodesic_distance(current_loc, goal_loc)        \n",
    "    \n",
    "        # Max iterations\n",
    "        if problems > 200:\n",
    "            iterations = -2\n",
    "            goal_met += 1\n",
    "            \n",
    "    return iterations, visited_nodes, visited_locations_lat, visited_locations_lon"
   ]
  },
  {
   "cell_type": "code",
   "execution_count": 24,
   "id": "88358b8c-cdc8-4c1e-9d5c-562870ecffb5",
   "metadata": {},
   "outputs": [],
   "source": [
    "hops, nodes, lat, lon = greedy_routing(users_100, edges_100, random.choice(users_100.user_id.values), random.choice(users_100.user_id.values))"
   ]
  },
  {
   "cell_type": "markdown",
   "id": "a4c3419f-b121-473a-97ea-f02b5e3eef2c",
   "metadata": {},
   "source": [
    "## Plot trajectories"
   ]
  },
  {
   "cell_type": "code",
   "execution_count": 25,
   "id": "cd095df6-6b8f-4486-83d2-8160374a5677",
   "metadata": {},
   "outputs": [
    {
     "data": {},
     "metadata": {},
     "output_type": "display_data"
    },
    {
     "data": {
      "application/vnd.holoviews_exec.v0+json": "",
      "text/html": [
       "<div id='2480'>\n",
       "  <div class=\"bk-root\" id=\"6b3fe687-c908-47fa-ba29-cf000af2d310\" data-root-id=\"2480\"></div>\n",
       "</div>\n",
       "<script type=\"application/javascript\">(function(root) {\n",
       "  function embed_document(root) {\n",
       "    var docs_json = {\"ff18d95a-328c-4123-9f50-f2c9bdea6dc1\":{\"defs\":[{\"extends\":null,\"module\":null,\"name\":\"ReactiveHTML1\",\"overrides\":[],\"properties\":[]},{\"extends\":null,\"module\":null,\"name\":\"FlexBox1\",\"overrides\":[],\"properties\":[{\"default\":\"flex-start\",\"kind\":null,\"name\":\"align_content\"},{\"default\":\"flex-start\",\"kind\":null,\"name\":\"align_items\"},{\"default\":\"row\",\"kind\":null,\"name\":\"flex_direction\"},{\"default\":\"wrap\",\"kind\":null,\"name\":\"flex_wrap\"},{\"default\":\"flex-start\",\"kind\":null,\"name\":\"justify_content\"}]},{\"extends\":null,\"module\":null,\"name\":\"GridStack1\",\"overrides\":[],\"properties\":[{\"default\":\"warn\",\"kind\":null,\"name\":\"mode\"},{\"default\":null,\"kind\":null,\"name\":\"ncols\"},{\"default\":null,\"kind\":null,\"name\":\"nrows\"},{\"default\":true,\"kind\":null,\"name\":\"allow_resize\"},{\"default\":true,\"kind\":null,\"name\":\"allow_drag\"},{\"default\":[],\"kind\":null,\"name\":\"state\"}]},{\"extends\":null,\"module\":null,\"name\":\"click1\",\"overrides\":[],\"properties\":[{\"default\":\"\",\"kind\":null,\"name\":\"terminal_output\"},{\"default\":\"\",\"kind\":null,\"name\":\"debug_name\"},{\"default\":0,\"kind\":null,\"name\":\"clears\"}]},{\"extends\":null,\"module\":null,\"name\":\"NotificationAreaBase1\",\"overrides\":[],\"properties\":[{\"default\":\"bottom-right\",\"kind\":null,\"name\":\"position\"},{\"default\":0,\"kind\":null,\"name\":\"_clear\"}]},{\"extends\":null,\"module\":null,\"name\":\"NotificationArea1\",\"overrides\":[],\"properties\":[{\"default\":[],\"kind\":null,\"name\":\"notifications\"},{\"default\":\"bottom-right\",\"kind\":null,\"name\":\"position\"},{\"default\":0,\"kind\":null,\"name\":\"_clear\"},{\"default\":[{\"background\":\"#ffc107\",\"icon\":{\"className\":\"fas fa-exclamation-triangle\",\"color\":\"white\",\"tagName\":\"i\"},\"type\":\"warning\"},{\"background\":\"#007bff\",\"icon\":{\"className\":\"fas fa-info-circle\",\"color\":\"white\",\"tagName\":\"i\"},\"type\":\"info\"}],\"kind\":null,\"name\":\"types\"}]},{\"extends\":null,\"module\":null,\"name\":\"Notification\",\"overrides\":[],\"properties\":[{\"default\":null,\"kind\":null,\"name\":\"background\"},{\"default\":3000,\"kind\":null,\"name\":\"duration\"},{\"default\":null,\"kind\":null,\"name\":\"icon\"},{\"default\":\"\",\"kind\":null,\"name\":\"message\"},{\"default\":null,\"kind\":null,\"name\":\"notification_type\"},{\"default\":false,\"kind\":null,\"name\":\"_destroyed\"}]},{\"extends\":null,\"module\":null,\"name\":\"TemplateActions1\",\"overrides\":[],\"properties\":[{\"default\":0,\"kind\":null,\"name\":\"open_modal\"},{\"default\":0,\"kind\":null,\"name\":\"close_modal\"}]},{\"extends\":null,\"module\":null,\"name\":\"MaterialTemplateActions1\",\"overrides\":[],\"properties\":[{\"default\":0,\"kind\":null,\"name\":\"open_modal\"},{\"default\":0,\"kind\":null,\"name\":\"close_modal\"}]}],\"roots\":{\"references\":[{\"attributes\":{\"callback\":null,\"renderers\":[{\"id\":\"2562\"}],\"tags\":[\"hv_created\"],\"tooltips\":null},\"id\":\"2490\",\"type\":\"HoverTool\"},{\"attributes\":{},\"id\":\"2498\",\"type\":\"LinearScale\"},{\"attributes\":{\"coordinates\":null,\"group\":null,\"level\":\"glyph\",\"tile_source\":{\"id\":\"2551\"}},\"id\":\"2554\",\"type\":\"TileRenderer\"},{\"attributes\":{\"coordinates\":null,\"group\":null,\"text_color\":\"black\",\"text_font_size\":\"12pt\"},\"id\":\"2494\",\"type\":\"Title\"},{\"attributes\":{},\"id\":\"2538\",\"type\":\"AllLabels\"},{\"attributes\":{},\"id\":\"2531\",\"type\":\"AllLabels\"},{\"attributes\":{\"end\":7361865.918971582,\"min_interval\":5,\"reset_end\":7361865.918971582,\"reset_start\":0.1113194902619854,\"start\":0.1113194902619854,\"tags\":[[[\"Latitude\",\"Latitude\",null]]]},\"id\":\"2487\",\"type\":\"Range1d\"},{\"attributes\":{\"margin\":[5,5,5,5],\"name\":\"HSpacer04430\",\"sizing_mode\":\"stretch_width\"},\"id\":\"2481\",\"type\":\"Spacer\"},{\"attributes\":{\"axis\":{\"id\":\"2506\"},\"coordinates\":null,\"dimension\":1,\"grid_line_color\":null,\"group\":null,\"ticker\":null},\"id\":\"2509\",\"type\":\"Grid\"},{\"attributes\":{\"coordinates\":null,\"data_source\":{\"id\":\"2556\"},\"glyph\":{\"id\":\"2559\"},\"group\":null,\"hover_glyph\":null,\"muted_glyph\":{\"id\":\"2561\"},\"nonselection_glyph\":{\"id\":\"2560\"},\"selection_glyph\":{\"id\":\"2564\"},\"view\":{\"id\":\"2563\"}},\"id\":\"2562\",\"type\":\"GlyphRenderer\"},{\"attributes\":{\"below\":[{\"id\":\"2502\"}],\"center\":[{\"id\":\"2505\"},{\"id\":\"2509\"}],\"frame_height\":300,\"frame_width\":272,\"height\":null,\"left\":[{\"id\":\"2506\"}],\"margin\":[5,5,5,5],\"match_aspect\":true,\"min_border_bottom\":10,\"min_border_left\":10,\"min_border_right\":10,\"min_border_top\":10,\"renderers\":[{\"id\":\"2554\"},{\"id\":\"2562\"}],\"sizing_mode\":\"fixed\",\"title\":{\"id\":\"2494\"},\"toolbar\":{\"id\":\"2516\"},\"width\":null,\"x_range\":{\"id\":\"2486\"},\"x_scale\":{\"id\":\"2498\"},\"y_range\":{\"id\":\"2487\"},\"y_scale\":{\"id\":\"2500\"}},\"id\":\"2493\",\"subtype\":\"Figure\",\"type\":\"Plot\"},{\"attributes\":{\"tools\":[{\"id\":\"2490\"},{\"id\":\"2510\"},{\"id\":\"2511\"},{\"id\":\"2512\"},{\"id\":\"2513\"},{\"id\":\"2514\"}]},\"id\":\"2516\",\"type\":\"Toolbar\"},{\"attributes\":{},\"id\":\"2510\",\"type\":\"SaveTool\"},{\"attributes\":{\"dimension\":\"lon\"},\"id\":\"2526\",\"type\":\"MercatorTickFormatter\"},{\"attributes\":{\"axis\":{\"id\":\"2502\"},\"coordinates\":null,\"grid_line_color\":null,\"group\":null,\"ticker\":null},\"id\":\"2505\",\"type\":\"Grid\"},{\"attributes\":{\"axis_label\":\"x\",\"coordinates\":null,\"formatter\":{\"id\":\"2526\"},\"group\":null,\"major_label_policy\":{\"id\":\"2531\"},\"ticker\":{\"id\":\"2525\"}},\"id\":\"2502\",\"type\":\"LinearAxis\"},{\"attributes\":{\"axis_label\":\"y\",\"coordinates\":null,\"formatter\":{\"id\":\"2528\"},\"group\":null,\"major_label_policy\":{\"id\":\"2538\"},\"ticker\":{\"id\":\"2527\"}},\"id\":\"2506\",\"type\":\"LinearAxis\"},{\"attributes\":{},\"id\":\"2568\",\"type\":\"UnionRenderers\"},{\"attributes\":{\"line_color\":{\"value\":\"red\"},\"xs\":{\"field\":\"xs\"},\"ys\":{\"field\":\"ys\"}},\"id\":\"2559\",\"type\":\"MultiLine\"},{\"attributes\":{\"match_aspect\":true,\"overlay\":{\"id\":\"2515\"}},\"id\":\"2513\",\"type\":\"BoxZoomTool\"},{\"attributes\":{\"data\":{\"xs\":[{\"__ndarray__\":\"cRahetd+YcHIMczb5P1pwQ==\",\"dtype\":\"float64\",\"order\":\"little\",\"shape\":[2]}],\"ys\":[{\"__ndarray__\":\"Jb9AYWWJT0H+kdEUE1hRQQ==\",\"dtype\":\"float64\",\"order\":\"little\",\"shape\":[2]}]},\"selected\":{\"id\":\"2557\"},\"selection_policy\":{\"id\":\"2568\"}},\"id\":\"2556\",\"type\":\"ColumnDataSource\"},{\"attributes\":{\"line_alpha\":{\"value\":0.2},\"line_color\":{\"value\":\"red\"},\"xs\":{\"field\":\"xs\"},\"ys\":{\"field\":\"ys\"}},\"id\":\"2561\",\"type\":\"MultiLine\"},{\"attributes\":{\"dimension\":\"lat\"},\"id\":\"2527\",\"type\":\"MercatorTicker\"},{\"attributes\":{},\"id\":\"2557\",\"type\":\"Selection\"},{\"attributes\":{\"margin\":[5,5,5,5],\"name\":\"HSpacer04431\",\"sizing_mode\":\"stretch_width\"},\"id\":\"2571\",\"type\":\"Spacer\"},{\"attributes\":{\"bottom_units\":\"screen\",\"coordinates\":null,\"fill_alpha\":0.5,\"fill_color\":\"lightgrey\",\"group\":null,\"left_units\":\"screen\",\"level\":\"overlay\",\"line_alpha\":1.0,\"line_color\":\"black\",\"line_dash\":[4,4],\"line_width\":2,\"right_units\":\"screen\",\"syncable\":false,\"top_units\":\"screen\"},\"id\":\"2515\",\"type\":\"BoxAnnotation\"},{\"attributes\":{},\"id\":\"2500\",\"type\":\"LinearScale\"},{\"attributes\":{},\"id\":\"2511\",\"type\":\"PanTool\"},{\"attributes\":{\"children\":[{\"id\":\"2481\"},{\"id\":\"2493\"},{\"id\":\"2571\"}],\"margin\":[0,0,0,0],\"name\":\"Row04426\",\"tags\":[\"embedded\"]},\"id\":\"2480\",\"type\":\"Row\"},{\"attributes\":{\"line_alpha\":{\"value\":1},\"line_color\":{\"value\":\"red\"},\"xs\":{\"field\":\"xs\"},\"ys\":{\"field\":\"ys\"}},\"id\":\"2560\",\"type\":\"MultiLine\"},{\"attributes\":{},\"id\":\"2514\",\"type\":\"ResetTool\"},{\"attributes\":{\"dimension\":\"lat\"},\"id\":\"2528\",\"type\":\"MercatorTickFormatter\"},{\"attributes\":{\"attribution\":\"&copy; <a href=\\\"http://downloads.esri.com/ArcGISOnline/docs/tou_summary.pdf\\\">Esri</a>, Earthstar Geographics\",\"url\":\"https://server.arcgisonline.com/ArcGIS/rest/services/World_Imagery/MapServer/tile/{Z}/{Y}/{X}.jpg\"},\"id\":\"2551\",\"type\":\"WMTSTileSource\"},{\"attributes\":{\"end\":-7792364.466848641,\"min_interval\":5,\"reset_end\":-7792364.466848641,\"reset_start\":-14471533.691806072,\"start\":-14471533.691806072,\"tags\":[[[\"Longitude\",\"Longitude\",null]]]},\"id\":\"2486\",\"type\":\"Range1d\"},{\"attributes\":{\"source\":{\"id\":\"2556\"}},\"id\":\"2563\",\"type\":\"CDSView\"},{\"attributes\":{\"dimension\":\"lon\"},\"id\":\"2525\",\"type\":\"MercatorTicker\"},{\"attributes\":{\"line_alpha\":{\"value\":1},\"line_cap\":{\"value\":\"butt\"},\"line_color\":{\"value\":\"red\"},\"line_dash\":{\"value\":[]},\"line_dash_offset\":{\"value\":0},\"line_join\":{\"value\":\"bevel\"},\"line_width\":{\"value\":1},\"xs\":{\"field\":\"xs\"},\"ys\":{\"field\":\"ys\"}},\"id\":\"2564\",\"type\":\"MultiLine\"},{\"attributes\":{\"zoom_on_axis\":false},\"id\":\"2512\",\"type\":\"WheelZoomTool\"}],\"root_ids\":[\"2480\"]},\"title\":\"Bokeh Application\",\"version\":\"2.4.3\"}};\n",
       "    var render_items = [{\"docid\":\"ff18d95a-328c-4123-9f50-f2c9bdea6dc1\",\"root_ids\":[\"2480\"],\"roots\":{\"2480\":\"6b3fe687-c908-47fa-ba29-cf000af2d310\"}}];\n",
       "    root.Bokeh.embed.embed_items_notebook(docs_json, render_items);\n",
       "    for (const render_item of render_items) {\n",
       "      for (const root_id of render_item.root_ids) {\n",
       "\tconst id_el = document.getElementById(root_id)\n",
       "\tif (id_el.children.length && (id_el.children[0].className === 'bk-root')) {\n",
       "\t  const root_el = id_el.children[0]\n",
       "\t  root_el.id = root_el.id + '-rendered'\n",
       "\t}\n",
       "      }\n",
       "    }\n",
       "  }\n",
       "  if (root.Bokeh !== undefined && root.Bokeh.Panel !== undefined) {\n",
       "    embed_document(root);\n",
       "  } else {\n",
       "    var attempts = 0;\n",
       "    var timer = setInterval(function(root) {\n",
       "      if (root.Bokeh !== undefined && root.Bokeh.Panel !== undefined) {\n",
       "        clearInterval(timer);\n",
       "        embed_document(root);\n",
       "      } else if (document.readyState == \"complete\") {\n",
       "        attempts++;\n",
       "        if (attempts > 200) {\n",
       "          clearInterval(timer);\n",
       "          console.log(\"Bokeh: ERROR: Unable to run BokehJS code because BokehJS library is missing\");\n",
       "        }\n",
       "      }\n",
       "    }, 25, root)\n",
       "  }\n",
       "})(window);</script>"
      ],
      "text/plain": [
       ":Overlay\n",
       "   .Tiles.I :Tiles   [x,y]\n",
       "   .Path.I  :Path   [Longitude,Latitude]"
      ]
     },
     "execution_count": 25,
     "metadata": {
      "application/vnd.holoviews_exec.v0+json": {
       "id": "2480"
      }
     },
     "output_type": "execute_result"
    }
   ],
   "source": [
    "hops, nodes, lat, lon = greedy_routing(users_100, edges_100, random.choice(users_100.user_id.values), random.choice(users_100.user_id.values))\n",
    "trajectory = pd.DataFrame(list(zip(nodes,lat,lon)), columns=(['user_id', 'Latitude', 'Longitude']))\n",
    "trajectory.hvplot.paths('Longitude', 'Latitude', geo=True, color='red', alpha=1,\n",
    "                       xlim=(-130, -70), ylim=(0, 55), tiles='ESRI')"
   ]
  },
  {
   "cell_type": "code",
   "execution_count": 26,
   "id": "f308af37-a016-4ec7-902e-1cc4c3cc7b79",
   "metadata": {},
   "outputs": [
    {
     "data": {},
     "metadata": {},
     "output_type": "display_data"
    },
    {
     "data": {
      "application/vnd.holoviews_exec.v0+json": "",
      "text/html": [
       "<div id='2603'>\n",
       "  <div class=\"bk-root\" id=\"0df17445-2404-4ec1-9b76-35877b0ea62f\" data-root-id=\"2603\"></div>\n",
       "</div>\n",
       "<script type=\"application/javascript\">(function(root) {\n",
       "  function embed_document(root) {\n",
       "    var docs_json = {\"e134deac-fa34-4dd7-8c9b-eacbf99d6b46\":{\"defs\":[{\"extends\":null,\"module\":null,\"name\":\"ReactiveHTML1\",\"overrides\":[],\"properties\":[]},{\"extends\":null,\"module\":null,\"name\":\"FlexBox1\",\"overrides\":[],\"properties\":[{\"default\":\"flex-start\",\"kind\":null,\"name\":\"align_content\"},{\"default\":\"flex-start\",\"kind\":null,\"name\":\"align_items\"},{\"default\":\"row\",\"kind\":null,\"name\":\"flex_direction\"},{\"default\":\"wrap\",\"kind\":null,\"name\":\"flex_wrap\"},{\"default\":\"flex-start\",\"kind\":null,\"name\":\"justify_content\"}]},{\"extends\":null,\"module\":null,\"name\":\"GridStack1\",\"overrides\":[],\"properties\":[{\"default\":\"warn\",\"kind\":null,\"name\":\"mode\"},{\"default\":null,\"kind\":null,\"name\":\"ncols\"},{\"default\":null,\"kind\":null,\"name\":\"nrows\"},{\"default\":true,\"kind\":null,\"name\":\"allow_resize\"},{\"default\":true,\"kind\":null,\"name\":\"allow_drag\"},{\"default\":[],\"kind\":null,\"name\":\"state\"}]},{\"extends\":null,\"module\":null,\"name\":\"click1\",\"overrides\":[],\"properties\":[{\"default\":\"\",\"kind\":null,\"name\":\"terminal_output\"},{\"default\":\"\",\"kind\":null,\"name\":\"debug_name\"},{\"default\":0,\"kind\":null,\"name\":\"clears\"}]},{\"extends\":null,\"module\":null,\"name\":\"NotificationAreaBase1\",\"overrides\":[],\"properties\":[{\"default\":\"bottom-right\",\"kind\":null,\"name\":\"position\"},{\"default\":0,\"kind\":null,\"name\":\"_clear\"}]},{\"extends\":null,\"module\":null,\"name\":\"NotificationArea1\",\"overrides\":[],\"properties\":[{\"default\":[],\"kind\":null,\"name\":\"notifications\"},{\"default\":\"bottom-right\",\"kind\":null,\"name\":\"position\"},{\"default\":0,\"kind\":null,\"name\":\"_clear\"},{\"default\":[{\"background\":\"#ffc107\",\"icon\":{\"className\":\"fas fa-exclamation-triangle\",\"color\":\"white\",\"tagName\":\"i\"},\"type\":\"warning\"},{\"background\":\"#007bff\",\"icon\":{\"className\":\"fas fa-info-circle\",\"color\":\"white\",\"tagName\":\"i\"},\"type\":\"info\"}],\"kind\":null,\"name\":\"types\"}]},{\"extends\":null,\"module\":null,\"name\":\"Notification\",\"overrides\":[],\"properties\":[{\"default\":null,\"kind\":null,\"name\":\"background\"},{\"default\":3000,\"kind\":null,\"name\":\"duration\"},{\"default\":null,\"kind\":null,\"name\":\"icon\"},{\"default\":\"\",\"kind\":null,\"name\":\"message\"},{\"default\":null,\"kind\":null,\"name\":\"notification_type\"},{\"default\":false,\"kind\":null,\"name\":\"_destroyed\"}]},{\"extends\":null,\"module\":null,\"name\":\"TemplateActions1\",\"overrides\":[],\"properties\":[{\"default\":0,\"kind\":null,\"name\":\"open_modal\"},{\"default\":0,\"kind\":null,\"name\":\"close_modal\"}]},{\"extends\":null,\"module\":null,\"name\":\"MaterialTemplateActions1\",\"overrides\":[],\"properties\":[{\"default\":0,\"kind\":null,\"name\":\"open_modal\"},{\"default\":0,\"kind\":null,\"name\":\"close_modal\"}]}],\"roots\":{\"references\":[{\"attributes\":{\"axis\":{\"id\":\"2625\"},\"coordinates\":null,\"grid_line_color\":null,\"group\":null,\"ticker\":null},\"id\":\"2628\",\"type\":\"Grid\"},{\"attributes\":{},\"id\":\"2691\",\"type\":\"UnionRenderers\"},{\"attributes\":{\"zoom_on_axis\":false},\"id\":\"2635\",\"type\":\"WheelZoomTool\"},{\"attributes\":{},\"id\":\"2634\",\"type\":\"PanTool\"},{\"attributes\":{\"children\":[{\"id\":\"2604\"},{\"id\":\"2616\"},{\"id\":\"2694\"}],\"margin\":[0,0,0,0],\"name\":\"Row04666\",\"tags\":[\"embedded\"]},\"id\":\"2603\",\"type\":\"Row\"},{\"attributes\":{\"axis_label\":\"y\",\"coordinates\":null,\"formatter\":{\"id\":\"2651\"},\"group\":null,\"major_label_policy\":{\"id\":\"2661\"},\"ticker\":{\"id\":\"2650\"}},\"id\":\"2629\",\"type\":\"LinearAxis\"},{\"attributes\":{},\"id\":\"2623\",\"type\":\"LinearScale\"},{\"attributes\":{\"axis\":{\"id\":\"2629\"},\"coordinates\":null,\"dimension\":1,\"grid_line_color\":null,\"group\":null,\"ticker\":null},\"id\":\"2632\",\"type\":\"Grid\"},{\"attributes\":{\"margin\":[5,5,5,5],\"name\":\"HSpacer04670\",\"sizing_mode\":\"stretch_width\"},\"id\":\"2604\",\"type\":\"Spacer\"},{\"attributes\":{\"line_alpha\":{\"value\":1},\"line_cap\":{\"value\":\"butt\"},\"line_color\":{\"value\":\"red\"},\"line_dash\":{\"value\":[]},\"line_dash_offset\":{\"value\":0},\"line_join\":{\"value\":\"bevel\"},\"line_width\":{\"value\":1},\"xs\":{\"field\":\"xs\"},\"ys\":{\"field\":\"ys\"}},\"id\":\"2687\",\"type\":\"MultiLine\"},{\"attributes\":{},\"id\":\"2633\",\"type\":\"SaveTool\"},{\"attributes\":{\"dimension\":\"lat\"},\"id\":\"2651\",\"type\":\"MercatorTickFormatter\"},{\"attributes\":{\"coordinates\":null,\"data_source\":{\"id\":\"2679\"},\"glyph\":{\"id\":\"2682\"},\"group\":null,\"hover_glyph\":null,\"muted_glyph\":{\"id\":\"2684\"},\"nonselection_glyph\":{\"id\":\"2683\"},\"selection_glyph\":{\"id\":\"2687\"},\"view\":{\"id\":\"2686\"}},\"id\":\"2685\",\"type\":\"GlyphRenderer\"},{\"attributes\":{\"data\":{\"xs\":[{\"__ndarray__\":\"r/wJm1lpX8H5Bh4NFg1qwQ==\",\"dtype\":\"float64\",\"order\":\"little\",\"shape\":[2]}],\"ys\":[{\"__ndarray__\":\"RHvTikb9UkFYuSA+sMNVQQ==\",\"dtype\":\"float64\",\"order\":\"little\",\"shape\":[2]}]},\"selected\":{\"id\":\"2680\"},\"selection_policy\":{\"id\":\"2691\"}},\"id\":\"2679\",\"type\":\"ColumnDataSource\"},{\"attributes\":{\"line_alpha\":{\"value\":1},\"line_color\":{\"value\":\"red\"},\"xs\":{\"field\":\"xs\"},\"ys\":{\"field\":\"ys\"}},\"id\":\"2683\",\"type\":\"MultiLine\"},{\"attributes\":{\"match_aspect\":true,\"overlay\":{\"id\":\"2638\"}},\"id\":\"2636\",\"type\":\"BoxZoomTool\"},{\"attributes\":{},\"id\":\"2637\",\"type\":\"ResetTool\"},{\"attributes\":{\"margin\":[5,5,5,5],\"name\":\"HSpacer04671\",\"sizing_mode\":\"stretch_width\"},\"id\":\"2694\",\"type\":\"Spacer\"},{\"attributes\":{\"source\":{\"id\":\"2679\"}},\"id\":\"2686\",\"type\":\"CDSView\"},{\"attributes\":{\"bottom_units\":\"screen\",\"coordinates\":null,\"fill_alpha\":0.5,\"fill_color\":\"lightgrey\",\"group\":null,\"left_units\":\"screen\",\"level\":\"overlay\",\"line_alpha\":1.0,\"line_color\":\"black\",\"line_dash\":[4,4],\"line_width\":2,\"right_units\":\"screen\",\"syncable\":false,\"top_units\":\"screen\"},\"id\":\"2638\",\"type\":\"BoxAnnotation\"},{\"attributes\":{},\"id\":\"2621\",\"type\":\"LinearScale\"},{\"attributes\":{\"dimension\":\"lat\"},\"id\":\"2650\",\"type\":\"MercatorTicker\"},{\"attributes\":{\"end\":-7792364.466848641,\"min_interval\":5,\"reset_end\":-7792364.466848641,\"reset_start\":-14471533.691806072,\"start\":-14471533.691806072,\"tags\":[[[\"Longitude\",\"Longitude\",null]]]},\"id\":\"2609\",\"type\":\"Range1d\"},{\"attributes\":{},\"id\":\"2680\",\"type\":\"Selection\"},{\"attributes\":{\"callback\":null,\"renderers\":[{\"id\":\"2685\"}],\"tags\":[\"hv_created\"],\"tooltips\":null},\"id\":\"2613\",\"type\":\"HoverTool\"},{\"attributes\":{\"dimension\":\"lon\"},\"id\":\"2649\",\"type\":\"MercatorTickFormatter\"},{\"attributes\":{\"axis_label\":\"x\",\"coordinates\":null,\"formatter\":{\"id\":\"2649\"},\"group\":null,\"major_label_policy\":{\"id\":\"2654\"},\"ticker\":{\"id\":\"2648\"}},\"id\":\"2625\",\"type\":\"LinearAxis\"},{\"attributes\":{\"tools\":[{\"id\":\"2613\"},{\"id\":\"2633\"},{\"id\":\"2634\"},{\"id\":\"2635\"},{\"id\":\"2636\"},{\"id\":\"2637\"}]},\"id\":\"2639\",\"type\":\"Toolbar\"},{\"attributes\":{},\"id\":\"2654\",\"type\":\"AllLabels\"},{\"attributes\":{\"dimension\":\"lon\"},\"id\":\"2648\",\"type\":\"MercatorTicker\"},{\"attributes\":{\"line_alpha\":{\"value\":0.2},\"line_color\":{\"value\":\"red\"},\"xs\":{\"field\":\"xs\"},\"ys\":{\"field\":\"ys\"}},\"id\":\"2684\",\"type\":\"MultiLine\"},{\"attributes\":{},\"id\":\"2661\",\"type\":\"AllLabels\"},{\"attributes\":{\"attribution\":\"&copy; <a href=\\\"http://downloads.esri.com/ArcGISOnline/docs/tou_summary.pdf\\\">Esri</a>, Earthstar Geographics\",\"url\":\"https://server.arcgisonline.com/ArcGIS/rest/services/World_Imagery/MapServer/tile/{Z}/{Y}/{X}.jpg\"},\"id\":\"2674\",\"type\":\"WMTSTileSource\"},{\"attributes\":{\"coordinates\":null,\"group\":null,\"level\":\"glyph\",\"tile_source\":{\"id\":\"2674\"}},\"id\":\"2677\",\"type\":\"TileRenderer\"},{\"attributes\":{\"end\":7361865.918971582,\"min_interval\":5,\"reset_end\":7361865.918971582,\"reset_start\":0.1113194902619854,\"start\":0.1113194902619854,\"tags\":[[[\"Latitude\",\"Latitude\",null]]]},\"id\":\"2610\",\"type\":\"Range1d\"},{\"attributes\":{\"below\":[{\"id\":\"2625\"}],\"center\":[{\"id\":\"2628\"},{\"id\":\"2632\"}],\"frame_height\":300,\"frame_width\":272,\"height\":null,\"left\":[{\"id\":\"2629\"}],\"margin\":[5,5,5,5],\"match_aspect\":true,\"min_border_bottom\":10,\"min_border_left\":10,\"min_border_right\":10,\"min_border_top\":10,\"renderers\":[{\"id\":\"2677\"},{\"id\":\"2685\"}],\"sizing_mode\":\"fixed\",\"title\":{\"id\":\"2617\"},\"toolbar\":{\"id\":\"2639\"},\"width\":null,\"x_range\":{\"id\":\"2609\"},\"x_scale\":{\"id\":\"2621\"},\"y_range\":{\"id\":\"2610\"},\"y_scale\":{\"id\":\"2623\"}},\"id\":\"2616\",\"subtype\":\"Figure\",\"type\":\"Plot\"},{\"attributes\":{\"coordinates\":null,\"group\":null,\"text_color\":\"black\",\"text_font_size\":\"12pt\"},\"id\":\"2617\",\"type\":\"Title\"},{\"attributes\":{\"line_color\":{\"value\":\"red\"},\"xs\":{\"field\":\"xs\"},\"ys\":{\"field\":\"ys\"}},\"id\":\"2682\",\"type\":\"MultiLine\"}],\"root_ids\":[\"2603\"]},\"title\":\"Bokeh Application\",\"version\":\"2.4.3\"}};\n",
       "    var render_items = [{\"docid\":\"e134deac-fa34-4dd7-8c9b-eacbf99d6b46\",\"root_ids\":[\"2603\"],\"roots\":{\"2603\":\"0df17445-2404-4ec1-9b76-35877b0ea62f\"}}];\n",
       "    root.Bokeh.embed.embed_items_notebook(docs_json, render_items);\n",
       "    for (const render_item of render_items) {\n",
       "      for (const root_id of render_item.root_ids) {\n",
       "\tconst id_el = document.getElementById(root_id)\n",
       "\tif (id_el.children.length && (id_el.children[0].className === 'bk-root')) {\n",
       "\t  const root_el = id_el.children[0]\n",
       "\t  root_el.id = root_el.id + '-rendered'\n",
       "\t}\n",
       "      }\n",
       "    }\n",
       "  }\n",
       "  if (root.Bokeh !== undefined && root.Bokeh.Panel !== undefined) {\n",
       "    embed_document(root);\n",
       "  } else {\n",
       "    var attempts = 0;\n",
       "    var timer = setInterval(function(root) {\n",
       "      if (root.Bokeh !== undefined && root.Bokeh.Panel !== undefined) {\n",
       "        clearInterval(timer);\n",
       "        embed_document(root);\n",
       "      } else if (document.readyState == \"complete\") {\n",
       "        attempts++;\n",
       "        if (attempts > 200) {\n",
       "          clearInterval(timer);\n",
       "          console.log(\"Bokeh: ERROR: Unable to run BokehJS code because BokehJS library is missing\");\n",
       "        }\n",
       "      }\n",
       "    }, 25, root)\n",
       "  }\n",
       "})(window);</script>"
      ],
      "text/plain": [
       ":Overlay\n",
       "   .Tiles.I :Tiles   [x,y]\n",
       "   .Path.I  :Path   [Longitude,Latitude]"
      ]
     },
     "execution_count": 26,
     "metadata": {
      "application/vnd.holoviews_exec.v0+json": {
       "id": "2603"
      }
     },
     "output_type": "execute_result"
    }
   ],
   "source": [
    "hops, nodes, lat, lon = greedy_routing(users_100, edges_100, random.choice(users_100.user_id.values), random.choice(users_100.user_id.values))\n",
    "trajectory = pd.DataFrame(list(zip(nodes,lat,lon)), columns=(['user_id', 'Latitude', 'Longitude']))\n",
    "trajectory.hvplot.paths('Longitude', 'Latitude', geo=True, color='red', alpha=1,\n",
    "                       xlim=(-130, -70), ylim=(0, 55), tiles='ESRI')"
   ]
  },
  {
   "cell_type": "code",
   "execution_count": 27,
   "id": "abc29498-f2e5-4408-abe0-c6ec16523065",
   "metadata": {},
   "outputs": [
    {
     "data": {},
     "metadata": {},
     "output_type": "display_data"
    },
    {
     "data": {
      "application/vnd.holoviews_exec.v0+json": "",
      "text/html": [
       "<div id='2726'>\n",
       "  <div class=\"bk-root\" id=\"b92d8348-b446-486c-90f8-0459ab17e7af\" data-root-id=\"2726\"></div>\n",
       "</div>\n",
       "<script type=\"application/javascript\">(function(root) {\n",
       "  function embed_document(root) {\n",
       "    var docs_json = {\"5f228419-86dc-4d17-817d-cf95d49916e8\":{\"defs\":[{\"extends\":null,\"module\":null,\"name\":\"ReactiveHTML1\",\"overrides\":[],\"properties\":[]},{\"extends\":null,\"module\":null,\"name\":\"FlexBox1\",\"overrides\":[],\"properties\":[{\"default\":\"flex-start\",\"kind\":null,\"name\":\"align_content\"},{\"default\":\"flex-start\",\"kind\":null,\"name\":\"align_items\"},{\"default\":\"row\",\"kind\":null,\"name\":\"flex_direction\"},{\"default\":\"wrap\",\"kind\":null,\"name\":\"flex_wrap\"},{\"default\":\"flex-start\",\"kind\":null,\"name\":\"justify_content\"}]},{\"extends\":null,\"module\":null,\"name\":\"GridStack1\",\"overrides\":[],\"properties\":[{\"default\":\"warn\",\"kind\":null,\"name\":\"mode\"},{\"default\":null,\"kind\":null,\"name\":\"ncols\"},{\"default\":null,\"kind\":null,\"name\":\"nrows\"},{\"default\":true,\"kind\":null,\"name\":\"allow_resize\"},{\"default\":true,\"kind\":null,\"name\":\"allow_drag\"},{\"default\":[],\"kind\":null,\"name\":\"state\"}]},{\"extends\":null,\"module\":null,\"name\":\"click1\",\"overrides\":[],\"properties\":[{\"default\":\"\",\"kind\":null,\"name\":\"terminal_output\"},{\"default\":\"\",\"kind\":null,\"name\":\"debug_name\"},{\"default\":0,\"kind\":null,\"name\":\"clears\"}]},{\"extends\":null,\"module\":null,\"name\":\"NotificationAreaBase1\",\"overrides\":[],\"properties\":[{\"default\":\"bottom-right\",\"kind\":null,\"name\":\"position\"},{\"default\":0,\"kind\":null,\"name\":\"_clear\"}]},{\"extends\":null,\"module\":null,\"name\":\"NotificationArea1\",\"overrides\":[],\"properties\":[{\"default\":[],\"kind\":null,\"name\":\"notifications\"},{\"default\":\"bottom-right\",\"kind\":null,\"name\":\"position\"},{\"default\":0,\"kind\":null,\"name\":\"_clear\"},{\"default\":[{\"background\":\"#ffc107\",\"icon\":{\"className\":\"fas fa-exclamation-triangle\",\"color\":\"white\",\"tagName\":\"i\"},\"type\":\"warning\"},{\"background\":\"#007bff\",\"icon\":{\"className\":\"fas fa-info-circle\",\"color\":\"white\",\"tagName\":\"i\"},\"type\":\"info\"}],\"kind\":null,\"name\":\"types\"}]},{\"extends\":null,\"module\":null,\"name\":\"Notification\",\"overrides\":[],\"properties\":[{\"default\":null,\"kind\":null,\"name\":\"background\"},{\"default\":3000,\"kind\":null,\"name\":\"duration\"},{\"default\":null,\"kind\":null,\"name\":\"icon\"},{\"default\":\"\",\"kind\":null,\"name\":\"message\"},{\"default\":null,\"kind\":null,\"name\":\"notification_type\"},{\"default\":false,\"kind\":null,\"name\":\"_destroyed\"}]},{\"extends\":null,\"module\":null,\"name\":\"TemplateActions1\",\"overrides\":[],\"properties\":[{\"default\":0,\"kind\":null,\"name\":\"open_modal\"},{\"default\":0,\"kind\":null,\"name\":\"close_modal\"}]},{\"extends\":null,\"module\":null,\"name\":\"MaterialTemplateActions1\",\"overrides\":[],\"properties\":[{\"default\":0,\"kind\":null,\"name\":\"open_modal\"},{\"default\":0,\"kind\":null,\"name\":\"close_modal\"}]}],\"roots\":{\"references\":[{\"attributes\":{},\"id\":\"2757\",\"type\":\"PanTool\"},{\"attributes\":{\"attribution\":\"&copy; <a href=\\\"http://downloads.esri.com/ArcGISOnline/docs/tou_summary.pdf\\\">Esri</a>, Earthstar Geographics\",\"url\":\"https://server.arcgisonline.com/ArcGIS/rest/services/World_Imagery/MapServer/tile/{Z}/{Y}/{X}.jpg\"},\"id\":\"2797\",\"type\":\"WMTSTileSource\"},{\"attributes\":{\"source\":{\"id\":\"2802\"}},\"id\":\"2809\",\"type\":\"CDSView\"},{\"attributes\":{\"line_alpha\":{\"value\":0.2},\"line_color\":{\"value\":\"red\"},\"xs\":{\"field\":\"xs\"},\"ys\":{\"field\":\"ys\"}},\"id\":\"2807\",\"type\":\"MultiLine\"},{\"attributes\":{\"coordinates\":null,\"data_source\":{\"id\":\"2802\"},\"glyph\":{\"id\":\"2805\"},\"group\":null,\"hover_glyph\":null,\"muted_glyph\":{\"id\":\"2807\"},\"nonselection_glyph\":{\"id\":\"2806\"},\"selection_glyph\":{\"id\":\"2810\"},\"view\":{\"id\":\"2809\"}},\"id\":\"2808\",\"type\":\"GlyphRenderer\"},{\"attributes\":{},\"id\":\"2803\",\"type\":\"Selection\"},{\"attributes\":{\"zoom_on_axis\":false},\"id\":\"2758\",\"type\":\"WheelZoomTool\"},{\"attributes\":{\"coordinates\":null,\"group\":null,\"level\":\"glyph\",\"tile_source\":{\"id\":\"2797\"}},\"id\":\"2800\",\"type\":\"TileRenderer\"},{\"attributes\":{\"match_aspect\":true,\"overlay\":{\"id\":\"2761\"}},\"id\":\"2759\",\"type\":\"BoxZoomTool\"},{\"attributes\":{},\"id\":\"2784\",\"type\":\"AllLabels\"},{\"attributes\":{\"margin\":[5,5,5,5],\"name\":\"HSpacer04910\",\"sizing_mode\":\"stretch_width\"},\"id\":\"2727\",\"type\":\"Spacer\"},{\"attributes\":{},\"id\":\"2777\",\"type\":\"AllLabels\"},{\"attributes\":{\"bottom_units\":\"screen\",\"coordinates\":null,\"fill_alpha\":0.5,\"fill_color\":\"lightgrey\",\"group\":null,\"left_units\":\"screen\",\"level\":\"overlay\",\"line_alpha\":1.0,\"line_color\":\"black\",\"line_dash\":[4,4],\"line_width\":2,\"right_units\":\"screen\",\"syncable\":false,\"top_units\":\"screen\"},\"id\":\"2761\",\"type\":\"BoxAnnotation\"},{\"attributes\":{\"children\":[{\"id\":\"2727\"},{\"id\":\"2739\"},{\"id\":\"2817\"}],\"margin\":[0,0,0,0],\"name\":\"Row04906\",\"tags\":[\"embedded\"]},\"id\":\"2726\",\"type\":\"Row\"},{\"attributes\":{\"dimension\":\"lon\"},\"id\":\"2772\",\"type\":\"MercatorTickFormatter\"},{\"attributes\":{\"tools\":[{\"id\":\"2736\"},{\"id\":\"2756\"},{\"id\":\"2757\"},{\"id\":\"2758\"},{\"id\":\"2759\"},{\"id\":\"2760\"}]},\"id\":\"2762\",\"type\":\"Toolbar\"},{\"attributes\":{\"data\":{\"xs\":[{\"__ndarray__\":\"9c+i/H1VY8E8gzBsUSppwQ==\",\"dtype\":\"float64\",\"order\":\"little\",\"shape\":[2]},{\"__ndarray__\":\"PIMwbFEqacEtTM1bnP5pwQ==\",\"dtype\":\"float64\",\"order\":\"little\",\"shape\":[2]},{\"__ndarray__\":\"LUzNW5z+acGOTpC/iP5pwQ==\",\"dtype\":\"float64\",\"order\":\"little\",\"shape\":[2]},{\"__ndarray__\":\"jk6Qv4j+acEQevWL1v5pwQ==\",\"dtype\":\"float64\",\"order\":\"little\",\"shape\":[2]},{\"__ndarray__\":\"EHr1i9b+acHBuh4DZf5pwQ==\",\"dtype\":\"float64\",\"order\":\"little\",\"shape\":[2]},{\"__ndarray__\":\"wboeA2X+acHVFheNe/5pwQ==\",\"dtype\":\"float64\",\"order\":\"little\",\"shape\":[2]}],\"ys\":[{\"__ndarray__\":\"fLv+0t0lS0F3bFG4qPdOQQ==\",\"dtype\":\"float64\",\"order\":\"little\",\"shape\":[2]},{\"__ndarray__\":\"d2xRuKj3TkGRHCaIRFdRQQ==\",\"dtype\":\"float64\",\"order\":\"little\",\"shape\":[2]},{\"__ndarray__\":\"kRwmiERXUUGYSQNer1dRQQ==\",\"dtype\":\"float64\",\"order\":\"little\",\"shape\":[2]},{\"__ndarray__\":\"mEkDXq9XUUEXZcpU71ZRQQ==\",\"dtype\":\"float64\",\"order\":\"little\",\"shape\":[2]},{\"__ndarray__\":\"F2XKVO9WUUHIyXeLAFZRQQ==\",\"dtype\":\"float64\",\"order\":\"little\",\"shape\":[2]},{\"__ndarray__\":\"yMl3iwBWUUFC80wpXldRQQ==\",\"dtype\":\"float64\",\"order\":\"little\",\"shape\":[2]}]},\"selected\":{\"id\":\"2803\"},\"selection_policy\":{\"id\":\"2814\"}},\"id\":\"2802\",\"type\":\"ColumnDataSource\"},{\"attributes\":{\"line_alpha\":{\"value\":1},\"line_cap\":{\"value\":\"butt\"},\"line_color\":{\"value\":\"red\"},\"line_dash\":{\"value\":[]},\"line_dash_offset\":{\"value\":0},\"line_join\":{\"value\":\"bevel\"},\"line_width\":{\"value\":1},\"xs\":{\"field\":\"xs\"},\"ys\":{\"field\":\"ys\"}},\"id\":\"2810\",\"type\":\"MultiLine\"},{\"attributes\":{\"axis\":{\"id\":\"2748\"},\"coordinates\":null,\"grid_line_color\":null,\"group\":null,\"ticker\":null},\"id\":\"2751\",\"type\":\"Grid\"},{\"attributes\":{\"axis_label\":\"x\",\"coordinates\":null,\"formatter\":{\"id\":\"2772\"},\"group\":null,\"major_label_policy\":{\"id\":\"2777\"},\"ticker\":{\"id\":\"2771\"}},\"id\":\"2748\",\"type\":\"LinearAxis\"},{\"attributes\":{\"margin\":[5,5,5,5],\"name\":\"HSpacer04911\",\"sizing_mode\":\"stretch_width\"},\"id\":\"2817\",\"type\":\"Spacer\"},{\"attributes\":{},\"id\":\"2744\",\"type\":\"LinearScale\"},{\"attributes\":{\"line_color\":{\"value\":\"red\"},\"xs\":{\"field\":\"xs\"},\"ys\":{\"field\":\"ys\"}},\"id\":\"2805\",\"type\":\"MultiLine\"},{\"attributes\":{},\"id\":\"2760\",\"type\":\"ResetTool\"},{\"attributes\":{\"dimension\":\"lat\"},\"id\":\"2774\",\"type\":\"MercatorTickFormatter\"},{\"attributes\":{},\"id\":\"2814\",\"type\":\"UnionRenderers\"},{\"attributes\":{\"axis\":{\"id\":\"2752\"},\"coordinates\":null,\"dimension\":1,\"grid_line_color\":null,\"group\":null,\"ticker\":null},\"id\":\"2755\",\"type\":\"Grid\"},{\"attributes\":{\"end\":-7792364.466848641,\"min_interval\":5,\"reset_end\":-7792364.466848641,\"reset_start\":-14471533.691806072,\"start\":-14471533.691806072,\"tags\":[[[\"Longitude\",\"Longitude\",null]]]},\"id\":\"2732\",\"type\":\"Range1d\"},{\"attributes\":{\"coordinates\":null,\"group\":null,\"text_color\":\"black\",\"text_font_size\":\"12pt\"},\"id\":\"2740\",\"type\":\"Title\"},{\"attributes\":{\"dimension\":\"lat\"},\"id\":\"2773\",\"type\":\"MercatorTicker\"},{\"attributes\":{\"dimension\":\"lon\"},\"id\":\"2771\",\"type\":\"MercatorTicker\"},{\"attributes\":{\"below\":[{\"id\":\"2748\"}],\"center\":[{\"id\":\"2751\"},{\"id\":\"2755\"}],\"frame_height\":300,\"frame_width\":272,\"height\":null,\"left\":[{\"id\":\"2752\"}],\"margin\":[5,5,5,5],\"match_aspect\":true,\"min_border_bottom\":10,\"min_border_left\":10,\"min_border_right\":10,\"min_border_top\":10,\"renderers\":[{\"id\":\"2800\"},{\"id\":\"2808\"}],\"sizing_mode\":\"fixed\",\"title\":{\"id\":\"2740\"},\"toolbar\":{\"id\":\"2762\"},\"width\":null,\"x_range\":{\"id\":\"2732\"},\"x_scale\":{\"id\":\"2744\"},\"y_range\":{\"id\":\"2733\"},\"y_scale\":{\"id\":\"2746\"}},\"id\":\"2739\",\"subtype\":\"Figure\",\"type\":\"Plot\"},{\"attributes\":{},\"id\":\"2746\",\"type\":\"LinearScale\"},{\"attributes\":{\"line_alpha\":{\"value\":1},\"line_color\":{\"value\":\"red\"},\"xs\":{\"field\":\"xs\"},\"ys\":{\"field\":\"ys\"}},\"id\":\"2806\",\"type\":\"MultiLine\"},{\"attributes\":{\"callback\":null,\"renderers\":[{\"id\":\"2808\"}],\"tags\":[\"hv_created\"],\"tooltips\":null},\"id\":\"2736\",\"type\":\"HoverTool\"},{\"attributes\":{},\"id\":\"2756\",\"type\":\"SaveTool\"},{\"attributes\":{\"end\":7361865.918971582,\"min_interval\":5,\"reset_end\":7361865.918971582,\"reset_start\":0.1113194902619854,\"start\":0.1113194902619854,\"tags\":[[[\"Latitude\",\"Latitude\",null]]]},\"id\":\"2733\",\"type\":\"Range1d\"},{\"attributes\":{\"axis_label\":\"y\",\"coordinates\":null,\"formatter\":{\"id\":\"2774\"},\"group\":null,\"major_label_policy\":{\"id\":\"2784\"},\"ticker\":{\"id\":\"2773\"}},\"id\":\"2752\",\"type\":\"LinearAxis\"}],\"root_ids\":[\"2726\"]},\"title\":\"Bokeh Application\",\"version\":\"2.4.3\"}};\n",
       "    var render_items = [{\"docid\":\"5f228419-86dc-4d17-817d-cf95d49916e8\",\"root_ids\":[\"2726\"],\"roots\":{\"2726\":\"b92d8348-b446-486c-90f8-0459ab17e7af\"}}];\n",
       "    root.Bokeh.embed.embed_items_notebook(docs_json, render_items);\n",
       "    for (const render_item of render_items) {\n",
       "      for (const root_id of render_item.root_ids) {\n",
       "\tconst id_el = document.getElementById(root_id)\n",
       "\tif (id_el.children.length && (id_el.children[0].className === 'bk-root')) {\n",
       "\t  const root_el = id_el.children[0]\n",
       "\t  root_el.id = root_el.id + '-rendered'\n",
       "\t}\n",
       "      }\n",
       "    }\n",
       "  }\n",
       "  if (root.Bokeh !== undefined && root.Bokeh.Panel !== undefined) {\n",
       "    embed_document(root);\n",
       "  } else {\n",
       "    var attempts = 0;\n",
       "    var timer = setInterval(function(root) {\n",
       "      if (root.Bokeh !== undefined && root.Bokeh.Panel !== undefined) {\n",
       "        clearInterval(timer);\n",
       "        embed_document(root);\n",
       "      } else if (document.readyState == \"complete\") {\n",
       "        attempts++;\n",
       "        if (attempts > 200) {\n",
       "          clearInterval(timer);\n",
       "          console.log(\"Bokeh: ERROR: Unable to run BokehJS code because BokehJS library is missing\");\n",
       "        }\n",
       "      }\n",
       "    }, 25, root)\n",
       "  }\n",
       "})(window);</script>"
      ],
      "text/plain": [
       ":Overlay\n",
       "   .Tiles.I :Tiles   [x,y]\n",
       "   .Path.I  :Path   [Longitude,Latitude]"
      ]
     },
     "execution_count": 27,
     "metadata": {
      "application/vnd.holoviews_exec.v0+json": {
       "id": "2726"
      }
     },
     "output_type": "execute_result"
    }
   ],
   "source": [
    "hops, nodes, lat, lon = greedy_routing(users_100, edges_100, random.choice(users_100.user_id.values), random.choice(users_100.user_id.values))\n",
    "trajectory = pd.DataFrame(list(zip(nodes,lat,lon)), columns=(['user_id', 'Latitude', 'Longitude']))\n",
    "trajectory.hvplot.paths('Longitude', 'Latitude', geo=True, color='red', alpha=1,\n",
    "                       xlim=(-130, -70), ylim=(0, 55), tiles='ESRI')"
   ]
  },
  {
   "cell_type": "code",
   "execution_count": 28,
   "id": "529413a9-9437-41af-9fbb-4148e51ea72d",
   "metadata": {},
   "outputs": [
    {
     "data": {},
     "metadata": {},
     "output_type": "display_data"
    },
    {
     "data": {
      "application/vnd.holoviews_exec.v0+json": "",
      "text/html": [
       "<div id='2849'>\n",
       "  <div class=\"bk-root\" id=\"fdfb89d5-3d5d-4c22-922e-d02724bdb89b\" data-root-id=\"2849\"></div>\n",
       "</div>\n",
       "<script type=\"application/javascript\">(function(root) {\n",
       "  function embed_document(root) {\n",
       "    var docs_json = {\"72193cfb-21bd-45f4-9e52-49a14ab9412e\":{\"defs\":[{\"extends\":null,\"module\":null,\"name\":\"ReactiveHTML1\",\"overrides\":[],\"properties\":[]},{\"extends\":null,\"module\":null,\"name\":\"FlexBox1\",\"overrides\":[],\"properties\":[{\"default\":\"flex-start\",\"kind\":null,\"name\":\"align_content\"},{\"default\":\"flex-start\",\"kind\":null,\"name\":\"align_items\"},{\"default\":\"row\",\"kind\":null,\"name\":\"flex_direction\"},{\"default\":\"wrap\",\"kind\":null,\"name\":\"flex_wrap\"},{\"default\":\"flex-start\",\"kind\":null,\"name\":\"justify_content\"}]},{\"extends\":null,\"module\":null,\"name\":\"GridStack1\",\"overrides\":[],\"properties\":[{\"default\":\"warn\",\"kind\":null,\"name\":\"mode\"},{\"default\":null,\"kind\":null,\"name\":\"ncols\"},{\"default\":null,\"kind\":null,\"name\":\"nrows\"},{\"default\":true,\"kind\":null,\"name\":\"allow_resize\"},{\"default\":true,\"kind\":null,\"name\":\"allow_drag\"},{\"default\":[],\"kind\":null,\"name\":\"state\"}]},{\"extends\":null,\"module\":null,\"name\":\"click1\",\"overrides\":[],\"properties\":[{\"default\":\"\",\"kind\":null,\"name\":\"terminal_output\"},{\"default\":\"\",\"kind\":null,\"name\":\"debug_name\"},{\"default\":0,\"kind\":null,\"name\":\"clears\"}]},{\"extends\":null,\"module\":null,\"name\":\"NotificationAreaBase1\",\"overrides\":[],\"properties\":[{\"default\":\"bottom-right\",\"kind\":null,\"name\":\"position\"},{\"default\":0,\"kind\":null,\"name\":\"_clear\"}]},{\"extends\":null,\"module\":null,\"name\":\"NotificationArea1\",\"overrides\":[],\"properties\":[{\"default\":[],\"kind\":null,\"name\":\"notifications\"},{\"default\":\"bottom-right\",\"kind\":null,\"name\":\"position\"},{\"default\":0,\"kind\":null,\"name\":\"_clear\"},{\"default\":[{\"background\":\"#ffc107\",\"icon\":{\"className\":\"fas fa-exclamation-triangle\",\"color\":\"white\",\"tagName\":\"i\"},\"type\":\"warning\"},{\"background\":\"#007bff\",\"icon\":{\"className\":\"fas fa-info-circle\",\"color\":\"white\",\"tagName\":\"i\"},\"type\":\"info\"}],\"kind\":null,\"name\":\"types\"}]},{\"extends\":null,\"module\":null,\"name\":\"Notification\",\"overrides\":[],\"properties\":[{\"default\":null,\"kind\":null,\"name\":\"background\"},{\"default\":3000,\"kind\":null,\"name\":\"duration\"},{\"default\":null,\"kind\":null,\"name\":\"icon\"},{\"default\":\"\",\"kind\":null,\"name\":\"message\"},{\"default\":null,\"kind\":null,\"name\":\"notification_type\"},{\"default\":false,\"kind\":null,\"name\":\"_destroyed\"}]},{\"extends\":null,\"module\":null,\"name\":\"TemplateActions1\",\"overrides\":[],\"properties\":[{\"default\":0,\"kind\":null,\"name\":\"open_modal\"},{\"default\":0,\"kind\":null,\"name\":\"close_modal\"}]},{\"extends\":null,\"module\":null,\"name\":\"MaterialTemplateActions1\",\"overrides\":[],\"properties\":[{\"default\":0,\"kind\":null,\"name\":\"open_modal\"},{\"default\":0,\"kind\":null,\"name\":\"close_modal\"}]}],\"roots\":{\"references\":[{\"attributes\":{\"callback\":null,\"renderers\":[{\"id\":\"2931\"}],\"tags\":[\"hv_created\"],\"tooltips\":null},\"id\":\"2859\",\"type\":\"HoverTool\"},{\"attributes\":{\"dimension\":\"lat\"},\"id\":\"2897\",\"type\":\"MercatorTickFormatter\"},{\"attributes\":{\"coordinates\":null,\"data_source\":{\"id\":\"2925\"},\"glyph\":{\"id\":\"2928\"},\"group\":null,\"hover_glyph\":null,\"muted_glyph\":{\"id\":\"2930\"},\"nonselection_glyph\":{\"id\":\"2929\"},\"selection_glyph\":{\"id\":\"2933\"},\"view\":{\"id\":\"2932\"}},\"id\":\"2931\",\"type\":\"GlyphRenderer\"},{\"attributes\":{\"line_color\":{\"value\":\"red\"},\"xs\":{\"field\":\"xs\"},\"ys\":{\"field\":\"ys\"}},\"id\":\"2928\",\"type\":\"MultiLine\"},{\"attributes\":{\"children\":[{\"id\":\"2850\"},{\"id\":\"2862\"},{\"id\":\"2940\"}],\"margin\":[0,0,0,0],\"name\":\"Row05146\",\"tags\":[\"embedded\"]},\"id\":\"2849\",\"type\":\"Row\"},{\"attributes\":{},\"id\":\"2907\",\"type\":\"AllLabels\"},{\"attributes\":{\"axis_label\":\"x\",\"coordinates\":null,\"formatter\":{\"id\":\"2895\"},\"group\":null,\"major_label_policy\":{\"id\":\"2900\"},\"ticker\":{\"id\":\"2894\"}},\"id\":\"2871\",\"type\":\"LinearAxis\"},{\"attributes\":{},\"id\":\"2926\",\"type\":\"Selection\"},{\"attributes\":{\"source\":{\"id\":\"2925\"}},\"id\":\"2932\",\"type\":\"CDSView\"},{\"attributes\":{\"line_alpha\":{\"value\":0.2},\"line_color\":{\"value\":\"red\"},\"xs\":{\"field\":\"xs\"},\"ys\":{\"field\":\"ys\"}},\"id\":\"2930\",\"type\":\"MultiLine\"},{\"attributes\":{\"attribution\":\"&copy; <a href=\\\"http://downloads.esri.com/ArcGISOnline/docs/tou_summary.pdf\\\">Esri</a>, Earthstar Geographics\",\"url\":\"https://server.arcgisonline.com/ArcGIS/rest/services/World_Imagery/MapServer/tile/{Z}/{Y}/{X}.jpg\"},\"id\":\"2920\",\"type\":\"WMTSTileSource\"},{\"attributes\":{},\"id\":\"2900\",\"type\":\"AllLabels\"},{\"attributes\":{\"coordinates\":null,\"group\":null,\"level\":\"glyph\",\"tile_source\":{\"id\":\"2920\"}},\"id\":\"2923\",\"type\":\"TileRenderer\"},{\"attributes\":{\"axis\":{\"id\":\"2871\"},\"coordinates\":null,\"grid_line_color\":null,\"group\":null,\"ticker\":null},\"id\":\"2874\",\"type\":\"Grid\"},{\"attributes\":{\"tools\":[{\"id\":\"2859\"},{\"id\":\"2879\"},{\"id\":\"2880\"},{\"id\":\"2881\"},{\"id\":\"2882\"},{\"id\":\"2883\"}]},\"id\":\"2885\",\"type\":\"Toolbar\"},{\"attributes\":{\"data\":{\"xs\":[{\"__ndarray__\":\"OE14+BVsX8FIjst+zsBkwQ==\",\"dtype\":\"float64\",\"order\":\"little\",\"shape\":[2]},{\"__ndarray__\":\"SI7Lfs7AZMGIx1ATr8BkwQ==\",\"dtype\":\"float64\",\"order\":\"little\",\"shape\":[2]},{\"__ndarray__\":\"iMdQE6/AZMHW5M+kwcBkwQ==\",\"dtype\":\"float64\",\"order\":\"little\",\"shape\":[2]},{\"__ndarray__\":\"1uTPpMHAZMHW226B2MBkwQ==\",\"dtype\":\"float64\",\"order\":\"little\",\"shape\":[2]}],\"ys\":[{\"__ndarray__\":\"2RTYnp33UkF2tAOBAP5KQQ==\",\"dtype\":\"float64\",\"order\":\"little\",\"shape\":[2]},{\"__ndarray__\":\"drQDgQD+SkFfAmuzIf1KQQ==\",\"dtype\":\"float64\",\"order\":\"little\",\"shape\":[2]},{\"__ndarray__\":\"XwJrsyH9SkHbyfZkdP1KQQ==\",\"dtype\":\"float64\",\"order\":\"little\",\"shape\":[2]},{\"__ndarray__\":\"28n2ZHT9SkHI/evA9fxKQQ==\",\"dtype\":\"float64\",\"order\":\"little\",\"shape\":[2]}]},\"selected\":{\"id\":\"2926\"},\"selection_policy\":{\"id\":\"2937\"}},\"id\":\"2925\",\"type\":\"ColumnDataSource\"},{\"attributes\":{\"dimension\":\"lon\"},\"id\":\"2895\",\"type\":\"MercatorTickFormatter\"},{\"attributes\":{},\"id\":\"2880\",\"type\":\"PanTool\"},{\"attributes\":{\"coordinates\":null,\"group\":null,\"text_color\":\"black\",\"text_font_size\":\"12pt\"},\"id\":\"2863\",\"type\":\"Title\"},{\"attributes\":{\"axis_label\":\"y\",\"coordinates\":null,\"formatter\":{\"id\":\"2897\"},\"group\":null,\"major_label_policy\":{\"id\":\"2907\"},\"ticker\":{\"id\":\"2896\"}},\"id\":\"2875\",\"type\":\"LinearAxis\"},{\"attributes\":{\"axis\":{\"id\":\"2875\"},\"coordinates\":null,\"dimension\":1,\"grid_line_color\":null,\"group\":null,\"ticker\":null},\"id\":\"2878\",\"type\":\"Grid\"},{\"attributes\":{\"dimension\":\"lat\"},\"id\":\"2896\",\"type\":\"MercatorTicker\"},{\"attributes\":{\"margin\":[5,5,5,5],\"name\":\"HSpacer05150\",\"sizing_mode\":\"stretch_width\"},\"id\":\"2850\",\"type\":\"Spacer\"},{\"attributes\":{\"line_alpha\":{\"value\":1},\"line_color\":{\"value\":\"red\"},\"xs\":{\"field\":\"xs\"},\"ys\":{\"field\":\"ys\"}},\"id\":\"2929\",\"type\":\"MultiLine\"},{\"attributes\":{},\"id\":\"2879\",\"type\":\"SaveTool\"},{\"attributes\":{\"dimension\":\"lon\"},\"id\":\"2894\",\"type\":\"MercatorTicker\"},{\"attributes\":{\"line_alpha\":{\"value\":1},\"line_cap\":{\"value\":\"butt\"},\"line_color\":{\"value\":\"red\"},\"line_dash\":{\"value\":[]},\"line_dash_offset\":{\"value\":0},\"line_join\":{\"value\":\"bevel\"},\"line_width\":{\"value\":1},\"xs\":{\"field\":\"xs\"},\"ys\":{\"field\":\"ys\"}},\"id\":\"2933\",\"type\":\"MultiLine\"},{\"attributes\":{},\"id\":\"2937\",\"type\":\"UnionRenderers\"},{\"attributes\":{\"margin\":[5,5,5,5],\"name\":\"HSpacer05151\",\"sizing_mode\":\"stretch_width\"},\"id\":\"2940\",\"type\":\"Spacer\"},{\"attributes\":{\"zoom_on_axis\":false},\"id\":\"2881\",\"type\":\"WheelZoomTool\"},{\"attributes\":{\"match_aspect\":true,\"overlay\":{\"id\":\"2884\"}},\"id\":\"2882\",\"type\":\"BoxZoomTool\"},{\"attributes\":{},\"id\":\"2883\",\"type\":\"ResetTool\"},{\"attributes\":{\"bottom_units\":\"screen\",\"coordinates\":null,\"fill_alpha\":0.5,\"fill_color\":\"lightgrey\",\"group\":null,\"left_units\":\"screen\",\"level\":\"overlay\",\"line_alpha\":1.0,\"line_color\":\"black\",\"line_dash\":[4,4],\"line_width\":2,\"right_units\":\"screen\",\"syncable\":false,\"top_units\":\"screen\"},\"id\":\"2884\",\"type\":\"BoxAnnotation\"},{\"attributes\":{\"end\":-7792364.466848641,\"min_interval\":5,\"reset_end\":-7792364.466848641,\"reset_start\":-14471533.691806072,\"start\":-14471533.691806072,\"tags\":[[[\"Longitude\",\"Longitude\",null]]]},\"id\":\"2855\",\"type\":\"Range1d\"},{\"attributes\":{\"end\":7361865.918971582,\"min_interval\":5,\"reset_end\":7361865.918971582,\"reset_start\":0.1113194902619854,\"start\":0.1113194902619854,\"tags\":[[[\"Latitude\",\"Latitude\",null]]]},\"id\":\"2856\",\"type\":\"Range1d\"},{\"attributes\":{\"below\":[{\"id\":\"2871\"}],\"center\":[{\"id\":\"2874\"},{\"id\":\"2878\"}],\"frame_height\":300,\"frame_width\":272,\"height\":null,\"left\":[{\"id\":\"2875\"}],\"margin\":[5,5,5,5],\"match_aspect\":true,\"min_border_bottom\":10,\"min_border_left\":10,\"min_border_right\":10,\"min_border_top\":10,\"renderers\":[{\"id\":\"2923\"},{\"id\":\"2931\"}],\"sizing_mode\":\"fixed\",\"title\":{\"id\":\"2863\"},\"toolbar\":{\"id\":\"2885\"},\"width\":null,\"x_range\":{\"id\":\"2855\"},\"x_scale\":{\"id\":\"2867\"},\"y_range\":{\"id\":\"2856\"},\"y_scale\":{\"id\":\"2869\"}},\"id\":\"2862\",\"subtype\":\"Figure\",\"type\":\"Plot\"},{\"attributes\":{},\"id\":\"2867\",\"type\":\"LinearScale\"},{\"attributes\":{},\"id\":\"2869\",\"type\":\"LinearScale\"}],\"root_ids\":[\"2849\"]},\"title\":\"Bokeh Application\",\"version\":\"2.4.3\"}};\n",
       "    var render_items = [{\"docid\":\"72193cfb-21bd-45f4-9e52-49a14ab9412e\",\"root_ids\":[\"2849\"],\"roots\":{\"2849\":\"fdfb89d5-3d5d-4c22-922e-d02724bdb89b\"}}];\n",
       "    root.Bokeh.embed.embed_items_notebook(docs_json, render_items);\n",
       "    for (const render_item of render_items) {\n",
       "      for (const root_id of render_item.root_ids) {\n",
       "\tconst id_el = document.getElementById(root_id)\n",
       "\tif (id_el.children.length && (id_el.children[0].className === 'bk-root')) {\n",
       "\t  const root_el = id_el.children[0]\n",
       "\t  root_el.id = root_el.id + '-rendered'\n",
       "\t}\n",
       "      }\n",
       "    }\n",
       "  }\n",
       "  if (root.Bokeh !== undefined && root.Bokeh.Panel !== undefined) {\n",
       "    embed_document(root);\n",
       "  } else {\n",
       "    var attempts = 0;\n",
       "    var timer = setInterval(function(root) {\n",
       "      if (root.Bokeh !== undefined && root.Bokeh.Panel !== undefined) {\n",
       "        clearInterval(timer);\n",
       "        embed_document(root);\n",
       "      } else if (document.readyState == \"complete\") {\n",
       "        attempts++;\n",
       "        if (attempts > 200) {\n",
       "          clearInterval(timer);\n",
       "          console.log(\"Bokeh: ERROR: Unable to run BokehJS code because BokehJS library is missing\");\n",
       "        }\n",
       "      }\n",
       "    }, 25, root)\n",
       "  }\n",
       "})(window);</script>"
      ],
      "text/plain": [
       ":Overlay\n",
       "   .Tiles.I :Tiles   [x,y]\n",
       "   .Path.I  :Path   [Longitude,Latitude]"
      ]
     },
     "execution_count": 28,
     "metadata": {
      "application/vnd.holoviews_exec.v0+json": {
       "id": "2849"
      }
     },
     "output_type": "execute_result"
    }
   ],
   "source": [
    "hops, nodes, lat, lon = greedy_routing(users_100, edges_100, random.choice(users_100.user_id.values), random.choice(users_100.user_id.values))\n",
    "trajectory = pd.DataFrame(list(zip(nodes,lat,lon)), columns=(['user_id', 'Latitude', 'Longitude']))\n",
    "trajectory.hvplot.paths('Longitude', 'Latitude', geo=True, color='red', alpha=1,\n",
    "                       xlim=(-130, -70), ylim=(0, 55), tiles='ESRI')"
   ]
  }
 ],
 "metadata": {
  "kernelspec": {
   "display_name": "Python 3 (ipykernel)",
   "language": "python",
   "name": "python3"
  },
  "language_info": {
   "codemirror_mode": {
    "name": "ipython",
    "version": 3
   },
   "file_extension": ".py",
   "mimetype": "text/x-python",
   "name": "python",
   "nbconvert_exporter": "python",
   "pygments_lexer": "ipython3",
   "version": "3.9.13"
  }
 },
 "nbformat": 4,
 "nbformat_minor": 5
}
