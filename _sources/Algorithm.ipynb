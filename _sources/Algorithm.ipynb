{
 "cells": [
  {
   "cell_type": "markdown",
   "id": "6a6f93a2-aac0-46b6-ba5b-ee453c7054d2",
   "metadata": {},
   "source": [
    "# The Algorithm"
   ]
  },
  {
   "cell_type": "code",
   "execution_count": 39,
   "id": "ecab4427-68e1-43ff-ad30-9f2ae7f5c7b3",
   "metadata": {
    "tags": []
   },
   "outputs": [],
   "source": [
    "import numpy as np\n",
    "import pandas as pd\n",
    "import xarray as xr\n",
    "import hvplot.pandas  # noqa\n",
    "import hvplot.xarray  # noqa\n",
    "import cartopy.crs as ccrs\n",
    "import random\n",
    "import geoviews as gv\n",
    "import holoviews as hv\n",
    "\n",
    "from geopy.distance import geodesic\n",
    "\n",
    "import warnings\n",
    "warnings.filterwarnings('ignore')\n",
    "pd.options.mode.chained_assignment = None"
   ]
  },
  {
   "cell_type": "markdown",
   "id": "d535be01-15cc-4193-899e-4cd51b04cc31",
   "metadata": {
    "tags": []
   },
   "source": [
    "A decentralized gready routing algorithm with memory to not to get stuck runing circles and maximum iterations of 200."
   ]
  },
  {
   "cell_type": "code",
   "execution_count": 2,
   "id": "a6bf8b3b-ae39-4c4e-b6bd-5e7c4157b0a0",
   "metadata": {},
   "outputs": [],
   "source": [
    "users = pd.read_csv(r'C:\\Users\\dajka\\Documents\\Egyetem\\MSC\\III\\dsdatasci\\data/us_users_in_network.csv')\n",
    "edges_100 = pd.read_csv(r'C:\\Users\\dajka\\Documents\\Egyetem\\MSC\\III\\dsdatasci\\twitter/edges_1000.csv')\n",
    "users_100 = users[users['user_id'].isin(np.unique(edges_100.values))].reset_index(drop=True)"
   ]
  },
  {
   "cell_type": "code",
   "execution_count": 3,
   "id": "4b2652cd-b6d6-489c-9e80-c5120c39e155",
   "metadata": {},
   "outputs": [],
   "source": [
    "def geodesic_distance(a, b):\n",
    "    return geodesic(a, b).miles"
   ]
  },
  {
   "cell_type": "code",
   "execution_count": 4,
   "id": "6159399f-e1e1-4644-9c6c-bd37ac91c6f5",
   "metadata": {},
   "outputs": [],
   "source": [
    "def greedy_routing(users, edges, start, end):\n",
    "    \n",
    "    goal_loc = tuple(users[users['user_id']==end].iloc[:,1:3].values[0])\n",
    "    goal_met = 0\n",
    "\n",
    "    current_node = start\n",
    "    current_loc = tuple(users[users['user_id']==start].iloc[:,1:3].values[0])\n",
    "    current_dist = geodesic_distance(current_loc, goal_loc)\n",
    "    iterations = 0\n",
    "    problems = 0\n",
    "\n",
    "    visited_nodes = []\n",
    "    visited_locations_lat = []\n",
    "    visited_locations_lon = []\n",
    "\n",
    "    while goal_met < 1:\n",
    "\n",
    "        iterations += 1\n",
    "        visited_nodes.append(current_node)\n",
    "        visited_locations_lat.append(current_loc[0])\n",
    "        visited_locations_lon.append(current_loc[1])\n",
    "        \n",
    "        # Get the neighbors\n",
    "        neighbors = np.unique(pd.concat([edges[edges['from']==current_node], edges[edges['to']==current_node]]).values).tolist()\n",
    "        neighbors_df = users[users['user_id'].isin(neighbors)]\n",
    "\n",
    "        # Calculate tjeir distances from the goal\n",
    "        distances = [geodesic_distance(tuple(row), goal_loc) for row in users[users['user_id'].isin(neighbors)].iloc[:,1:3].values]\n",
    "        neighbors_df.loc[:,'distance'] = distances\n",
    "        neighbors_df = neighbors_df[~neighbors_df['user_id'].isin(visited_nodes)] # neighbors not in visited nodes\n",
    "\n",
    "        # Check if dead end\n",
    "        if len(neighbors_df) < 1: \n",
    "            iterations = -1\n",
    "            goal_met += 1\n",
    "            break\n",
    "        \n",
    "        # Choose the colsest neighbor\n",
    "        closest_neighbor = neighbors_df.sort_values('distance').iloc[0,0]\n",
    "\n",
    "        if (neighbors_df.sort_values('distance').iloc[0,-1] == 0) and (closest_neighbor == end):\n",
    "            visited_nodes.append(closest_neighbor)\n",
    "            visited_locations_lat.append(users[users['user_id']==closest_neighbor].iloc[:,1].values[0])\n",
    "            visited_locations_lon.append(users[users['user_id']==closest_neighbor].iloc[:,2].values[0])\n",
    "            goal_met += 1\n",
    "        elif neighbors_df.sort_values('distance').iloc[0,-1] >= current_dist:\n",
    "            problems += 1\n",
    "\n",
    "        # New current node\n",
    "        current_node = closest_neighbor\n",
    "        current_loc = tuple(users[users['user_id']==closest_neighbor].iloc[:,1:3].values[0])\n",
    "        current_dist = geodesic_distance(current_loc, goal_loc)        \n",
    "    \n",
    "        # Max iterations\n",
    "        if problems > 200:\n",
    "            iterations = -2\n",
    "            goal_met += 1\n",
    "            \n",
    "    return iterations, visited_nodes, visited_locations_lat, visited_locations_lon"
   ]
  },
  {
   "cell_type": "code",
   "execution_count": 54,
   "id": "88358b8c-cdc8-4c1e-9d5c-562870ecffb5",
   "metadata": {},
   "outputs": [],
   "source": [
    "hops, nodes, lat, lon = greedy_routing(users_100, edges_100, random.choice(users_100.user_id.values), random.choice(users_100.user_id.values))"
   ]
  },
  {
   "cell_type": "markdown",
   "id": "a4c3419f-b121-473a-97ea-f02b5e3eef2c",
   "metadata": {},
   "source": [
    "## Plot trajectories"
   ]
  },
  {
   "cell_type": "code",
   "execution_count": 55,
   "id": "cd095df6-6b8f-4486-83d2-8160374a5677",
   "metadata": {},
   "outputs": [],
   "source": [
    "hops, nodes, lat, lon = greedy_routing(users_100, edges_100, random.choice(users_100.user_id.values), random.choice(users_100.user_id.values))\n",
    "trajectory = pd.DataFrame(list(zip(nodes,lat,lon)), columns=(['user_id', 'Latitude', 'Longitude']))\n",
    "trajectory.hvplot.paths('Longitude', 'Latitude', geo=True, color='red', alpha=1,\n",
    "                       xlim=(-130, -70), ylim=(0, 55), tiles='ESRI')"
   ]
  },
  {
   "cell_type": "code",
   "execution_count": 55,
   "id": "f308af37-a016-4ec7-902e-1cc4c3cc7b79",
   "metadata": {},
   "outputs": [],
   "source": [
    "hops, nodes, lat, lon = greedy_routing(users_100, edges_100, random.choice(users_100.user_id.values), random.choice(users_100.user_id.values))\n",
    "trajectory = pd.DataFrame(list(zip(nodes,lat,lon)), columns=(['user_id', 'Latitude', 'Longitude']))\n",
    "trajectory.hvplot.paths('Longitude', 'Latitude', geo=True, color='red', alpha=1,\n",
    "                       xlim=(-130, -70), ylim=(0, 55), tiles='ESRI')"
   ]
  },
  {
   "cell_type": "code",
   "execution_count": 55,
   "id": "abc29498-f2e5-4408-abe0-c6ec16523065",
   "metadata": {},
   "outputs": [],
   "source": [
    "hops, nodes, lat, lon = greedy_routing(users_100, edges_100, random.choice(users_100.user_id.values), random.choice(users_100.user_id.values))\n",
    "trajectory = pd.DataFrame(list(zip(nodes,lat,lon)), columns=(['user_id', 'Latitude', 'Longitude']))\n",
    "trajectory.hvplot.paths('Longitude', 'Latitude', geo=True, color='red', alpha=1,\n",
    "                       xlim=(-130, -70), ylim=(0, 55), tiles='ESRI')"
   ]
  },
  {
   "cell_type": "code",
   "execution_count": 55,
   "id": "529413a9-9437-41af-9fbb-4148e51ea72d",
   "metadata": {},
   "outputs": [],
   "source": [
    "hops, nodes, lat, lon = greedy_routing(users_100, edges_100, random.choice(users_100.user_id.values), random.choice(users_100.user_id.values))\n",
    "trajectory = pd.DataFrame(list(zip(nodes,lat,lon)), columns=(['user_id', 'Latitude', 'Longitude']))\n",
    "trajectory.hvplot.paths('Longitude', 'Latitude', geo=True, color='red', alpha=1,\n",
    "                       xlim=(-130, -70), ylim=(0, 55), tiles='ESRI')"
   ]
  },
  {
   "cell_type": "code",
   "execution_count": 55,
   "id": "5b4b82b5-9f44-43b3-8440-d2101fb98fbf",
   "metadata": {},
   "outputs": [],
   "source": [
    "hops, nodes, lat, lon = greedy_routing(users_100, edges_100, random.choice(users_100.user_id.values), random.choice(users_100.user_id.values))\n",
    "trajectory = pd.DataFrame(list(zip(nodes,lat,lon)), columns=(['user_id', 'Latitude', 'Longitude']))\n",
    "trajectory.hvplot.paths('Longitude', 'Latitude', geo=True, color='red', alpha=1,\n",
    "                       xlim=(-130, -70), ylim=(0, 55), tiles='ESRI')"
   ]
  },
  {
   "cell_type": "code",
   "execution_count": 55,
   "id": "7c70073e-4716-4dc9-a1ca-7960b5ab03a0",
   "metadata": {},
   "outputs": [],
   "source": [
    "hops, nodes, lat, lon = greedy_routing(users_100, edges_100, random.choice(users_100.user_id.values), random.choice(users_100.user_id.values))\n",
    "trajectory = pd.DataFrame(list(zip(nodes,lat,lon)), columns=(['user_id', 'Latitude', 'Longitude']))\n",
    "trajectory.hvplot.paths('Longitude', 'Latitude', geo=True, color='red', alpha=1,\n",
    "                       xlim=(-130, -70), ylim=(0, 55), tiles='ESRI')"
   ]
  },
  {
   "cell_type": "code",
   "execution_count": 55,
   "id": "52e8c500-2d7c-4b07-9b59-c1ffe7109b27",
   "metadata": {},
   "outputs": [],
   "source": [
    "hops, nodes, lat, lon = greedy_routing(users_100, edges_100, random.choice(users_100.user_id.values), random.choice(users_100.user_id.values))\n",
    "trajectory = pd.DataFrame(list(zip(nodes,lat,lon)), columns=(['user_id', 'Latitude', 'Longitude']))\n",
    "trajectory.hvplot.paths('Longitude', 'Latitude', geo=True, color='red', alpha=1,\n",
    "                       xlim=(-130, -70), ylim=(0, 55), tiles='ESRI')"
   ]
  },
  {
   "cell_type": "code",
   "execution_count": 55,
   "id": "83e4269f-9f66-4bff-9479-96a9506d6a66",
   "metadata": {},
   "outputs": [],
   "source": [
    "hops, nodes, lat, lon = greedy_routing(users_100, edges_100, random.choice(users_100.user_id.values), random.choice(users_100.user_id.values))\n",
    "trajectory = pd.DataFrame(list(zip(nodes,lat,lon)), columns=(['user_id', 'Latitude', 'Longitude']))\n",
    "trajectory.hvplot.paths('Longitude', 'Latitude', geo=True, color='red', alpha=1,\n",
    "                       xlim=(-130, -70), ylim=(0, 55), tiles='ESRI')"
   ]
  },
  {
   "cell_type": "code",
   "execution_count": 55,
   "id": "bb21fc4e-9859-4176-a6e5-d34561326795",
   "metadata": {},
   "outputs": [],
   "source": [
    "hops, nodes, lat, lon = greedy_routing(users_100, edges_100, random.choice(users_100.user_id.values), random.choice(users_100.user_id.values))\n",
    "trajectory = pd.DataFrame(list(zip(nodes,lat,lon)), columns=(['user_id', 'Latitude', 'Longitude']))\n",
    "trajectory.hvplot.paths('Longitude', 'Latitude', geo=True, color='red', alpha=1,\n",
    "                       xlim=(-130, -70), ylim=(0, 55), tiles='ESRI')"
   ]
  },
  {
   "cell_type": "code",
   "execution_count": 55,
   "id": "24c5d376-69ec-4c91-8e32-2703afc79d09",
   "metadata": {},
   "outputs": [],
   "source": [
    "hops, nodes, lat, lon = greedy_routing(users_100, edges_100, random.choice(users_100.user_id.values), random.choice(users_100.user_id.values))\n",
    "trajectory = pd.DataFrame(list(zip(nodes,lat,lon)), columns=(['user_id', 'Latitude', 'Longitude']))\n",
    "trajectory.hvplot.paths('Longitude', 'Latitude', geo=True, color='red', alpha=1,\n",
    "                       xlim=(-130, -70), ylim=(0, 55), tiles='ESRI')"
   ]
  },
  {
   "cell_type": "code",
   "execution_count": 55,
   "id": "d5503729-1875-4018-9691-a7e7235ff8c3",
   "metadata": {},
   "outputs": [],
   "source": [
    "hops, nodes, lat, lon = greedy_routing(users_100, edges_100, random.choice(users_100.user_id.values), random.choice(users_100.user_id.values))\n",
    "trajectory = pd.DataFrame(list(zip(nodes,lat,lon)), columns=(['user_id', 'Latitude', 'Longitude']))\n",
    "trajectory.hvplot.paths('Longitude', 'Latitude', geo=True, color='red', alpha=1,\n",
    "                       xlim=(-130, -70), ylim=(0, 55), tiles='ESRI')"
   ]
  },
  {
   "cell_type": "code",
   "execution_count": 55,
   "id": "b5651ca4-ff20-49e0-aa66-9b04e95efe69",
   "metadata": {},
   "outputs": [],
   "source": [
    "hops, nodes, lat, lon = greedy_routing(users_100, edges_100, random.choice(users_100.user_id.values), random.choice(users_100.user_id.values))\n",
    "trajectory = pd.DataFrame(list(zip(nodes,lat,lon)), columns=(['user_id', 'Latitude', 'Longitude']))\n",
    "trajectory.hvplot.paths('Longitude', 'Latitude', geo=True, color='red', alpha=1,\n",
    "                       xlim=(-130, -70), ylim=(0, 55), tiles='ESRI')"
   ]
  }
 ],
 "metadata": {
  "kernelspec": {
   "display_name": "Python 3 (ipykernel)",
   "language": "python",
   "name": "python3"
  },
  "language_info": {
   "codemirror_mode": {
    "name": "ipython",
    "version": 3
   },
   "file_extension": ".py",
   "mimetype": "text/x-python",
   "name": "python",
   "nbconvert_exporter": "python",
   "pygments_lexer": "ipython3",
   "version": "3.9.13"
  }
 },
 "nbformat": 4,
 "nbformat_minor": 5
}
